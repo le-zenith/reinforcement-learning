{
 "cells": [
  {
   "cell_type": "markdown",
   "id": "4028f793-9032-4ae7-9be8-409e35ff215e",
   "metadata": {},
   "source": [
    "# Q-learning for MountainCar problem\n",
    "\n",
    "In this notebook we will implement agent that plays MountainCar.\n",
    "\n",
    "## About MountainCar\n",
    "\n",
    "A car is on a one-dimensional track, positioned between two \"mountains\". The goal is to drive up the mountain on the right; however, the car's engine is not strong enough to scale the mountain in a single pass. Therefore, the only way to succeed is to drive back and forth to build up momentum.\n",
    "\n",
    "Observation space is a 2-dim vector, where the 1st element represents the \"car position\" and the 2nd element represents the \"car velocity\".\n",
    "There are 3 discrete deterministic actions:\n",
    "- 0: Accelerate to the Left\n",
    "- 1: Don't accelerate\n",
    "- 2: Accelerate to the Right\n",
    "\n",
    "<b>Reward:</b> Reward of 0 is awarded if the agent reached the flag (position = 0.5) on top of the mountain. Reward of -1 is awarded if the position of the agent is less than 0.5.\n",
    "\n",
    "<b>Starting State:</b> The position of the car is assigned a uniform random value in [-0.6 , -0.4]. The starting velocity of the car is always assigned to 0.\n",
    "\n",
    "<b>Episode Termination:</b> The car position is more than 0.5. Episode length is greater than 200"
   ]
  },
  {
   "cell_type": "code",
   "execution_count": 1,
   "id": "1a2fc842-d18a-4362-a372-1a2239c57c5e",
   "metadata": {},
   "outputs": [
    {
     "data": {
      "text/html": [
       "<video src=\"https://gym.openai.com/videos/2019-10-21--mqt8Qj1mwo/MountainCar-v0/original.mp4\" controls  >\n",
       "      Your browser does not support the <code>video</code> element.\n",
       "    </video>"
      ],
      "text/plain": [
       "<IPython.core.display.Video object>"
      ]
     },
     "execution_count": 1,
     "metadata": {},
     "output_type": "execute_result"
    }
   ],
   "source": [
    "from IPython.display import Video\n",
    "Video(\"https://gym.openai.com/videos/2019-10-21--mqt8Qj1mwo/MountainCar-v0/original.mp4\")"
   ]
  },
  {
   "cell_type": "markdown",
   "id": "826a292b-166d-4970-97e2-75a0ce3ed4cb",
   "metadata": {},
   "source": [
    "## Step 0. Import dependencies"
   ]
  },
  {
   "cell_type": "code",
   "execution_count": 2,
   "id": "c39e9fb7-2b9c-4c8b-b566-f69e388b4229",
   "metadata": {},
   "outputs": [],
   "source": [
    "import gym\n",
    "import numpy as np\n",
    "import matplotlib.pyplot as plt\n",
    "from sklearn.kernel_approximation import RBFSampler\n",
    "from sklearn.linear_model import SGDRegressor\n",
    "from sklearn.pipeline import FeatureUnion\n",
    "from sklearn.preprocessing import StandardScaler"
   ]
  },
  {
   "cell_type": "markdown",
   "id": "0be6e660-8acf-411f-98e2-9aa7044facca",
   "metadata": {},
   "source": [
    "Constants for future usage in code. \n",
    "- <b>N</b> means number of steps in environment before terminal state (by default Gym has only 200 iterations - that's too small value for MountainCar environment)\n",
    "- <b>N_EPISODES</b> means number of episodes during training. 500 episodes are enough."
   ]
  },
  {
   "cell_type": "code",
   "execution_count": 3,
   "id": "8bcc0a05-3078-4995-8388-b5d1be4c51d0",
   "metadata": {},
   "outputs": [],
   "source": [
    "# constants\n",
    "N = 400\n",
    "N_EPISODES = 200\n",
    "LEARNING_RATE = 'constant'"
   ]
  },
  {
   "cell_type": "markdown",
   "id": "d74fbe57-a25a-48d2-b969-4a37979f5747",
   "metadata": {},
   "source": [
    "## Step 1. Implement feature transformer"
   ]
  },
  {
   "cell_type": "code",
   "execution_count": 4,
   "id": "6ec0d9db-22c5-47cd-b736-e4d953145341",
   "metadata": {},
   "outputs": [],
   "source": [
    "class FeatureTransformer:\n",
    "    def __init__(self, env, n_components=100):\n",
    "        obs_examples = np.asarray([env.observation_space.sample() for _ in range(10000)])\n",
    "        scaler = StandardScaler()\n",
    "        scaled_examples = scaler.fit_transform(obs_examples)\n",
    "        self.scaler = scaler\n",
    "\n",
    "        featurizer = FeatureUnion([\n",
    "            (\"rbf1\", RBFSampler(gamma=5.0, n_components=n_components)),\n",
    "            (\"rbf2\", RBFSampler(gamma=2.0, n_components=n_components)),\n",
    "            (\"rbf3\", RBFSampler(gamma=1.0, n_components=n_components)),\n",
    "            (\"rbf4\", RBFSampler(gamma=0.5, n_components=n_components))\n",
    "        ])\n",
    "\n",
    "        featurizer.fit_transform(scaled_examples)\n",
    "        self.featurizer = featurizer\n",
    "\n",
    "    def transform(self, X):\n",
    "        X = self.scaler.transform(X)\n",
    "        X = self.featurizer.transform(X)\n",
    "        return X"
   ]
  },
  {
   "cell_type": "markdown",
   "id": "87016eac-3b12-484b-a413-7b30ec4b24b2",
   "metadata": {},
   "source": [
    "## Step 2. Implement Model class"
   ]
  },
  {
   "cell_type": "code",
   "execution_count": 5,
   "id": "6f58ce71-cdbe-4793-86da-3ad0032aafa3",
   "metadata": {},
   "outputs": [],
   "source": [
    "class Model:\n",
    "    def __init__(self, env, learning_rate, feature_transformer):\n",
    "        self.env = env\n",
    "        self.models_list = []\n",
    "        self.feature_transformer = feature_transformer\n",
    "        # model for each action\n",
    "        for _ in range(self.env.action_space.n):\n",
    "            model = SGDRegressor(learning_rate=learning_rate)\n",
    "            model.partial_fit(self.feature_transformer.transform([env.reset()]), [0])\n",
    "            self.models_list.append(model)\n",
    "\n",
    "    def predict(self, observation):\n",
    "        observation = self.feature_transformer.transform([observation])\n",
    "        prediction = np.asarray([model.predict(observation) for model in self.models_list])\n",
    "        return prediction\n",
    "\n",
    "    def sample_action(self, observation, eps):\n",
    "        if np.random.random() < eps:\n",
    "            action = self.env.action_space.sample()\n",
    "        else:\n",
    "            action = np.argmax(self.predict(observation))\n",
    "        return action\n",
    "\n",
    "    def update(self, observation, a, G):\n",
    "        X = self.feature_transformer.transform([observation])\n",
    "        self.models_list[a].partial_fit(X, [G])"
   ]
  },
  {
   "cell_type": "markdown",
   "id": "ca916804-afe5-430c-bd27-1e8ca983ab84",
   "metadata": {},
   "source": [
    "### Step 3. Function for playing one episode"
   ]
  },
  {
   "cell_type": "code",
   "execution_count": 6,
   "id": "8dd28c35-2120-414b-8804-44f02196f66f",
   "metadata": {},
   "outputs": [],
   "source": [
    "def play_one_episode(model,\n",
    "                     env,\n",
    "                     eps: float,\n",
    "                     gamma: float,\n",
    "                     mode: str = 'train'):\n",
    "    if mode not in ['train', 'play']:\n",
    "        raise ValueError(\"mode should be in ['train', 'play']\")\n",
    "    observation = env.reset()\n",
    "    done = False\n",
    "    total_reward = 0\n",
    "    iteration = 0\n",
    "    while not done:\n",
    "        action = model.sample_action(observation, eps)\n",
    "        prev_observation = observation\n",
    "        observation, reward, done, _ = env.step(action)\n",
    "        next_action = model.predict(observation)\n",
    "        G = reward + gamma * np.max(next_action[0])\n",
    "        if mode == 'train':                 \n",
    "            model.update(prev_observation, action, G)\n",
    "\n",
    "        total_reward += reward\n",
    "        iteration += 1\n",
    "\n",
    "    return total_reward"
   ]
  },
  {
   "cell_type": "markdown",
   "id": "26262631-6aaa-4ca4-ba35-6598442cf785",
   "metadata": {},
   "source": [
    "### Just function for tracking our learning experience.\n",
    "\n",
    "Here we can see function for plotting running average reward during learning process."
   ]
  },
  {
   "cell_type": "code",
   "execution_count": 7,
   "id": "b3f8997a-0f41-47dc-a7e6-aaa4f1bb2654",
   "metadata": {},
   "outputs": [],
   "source": [
    "def plot_running_avg(rewards):\n",
    "    N = len(rewards)\n",
    "    running_avg = np.empty(N)\n",
    "    for t in range(N):\n",
    "        running_avg[t] = rewards[max(0, t-50):(t+1)].mean()\n",
    "    plt.figure(figsize=(20, 10))\n",
    "    plt.plot(running_avg)\n",
    "    plt.title(\"Running Average\")\n",
    "    plt.show()"
   ]
  },
  {
   "cell_type": "markdown",
   "id": "292707de-5d96-487d-8c20-81b1190859b6",
   "metadata": {},
   "source": [
    "And let's do it. Now we are ready for learning. Epsilon will be decreased during learning process, so in the end we will come to ~100% decisions by our model."
   ]
  },
  {
   "cell_type": "code",
   "execution_count": 8,
   "id": "c73d9f42-45de-4188-abb7-bcd6c0eb0559",
   "metadata": {},
   "outputs": [
    {
     "name": "stdout",
     "output_type": "stream",
     "text": [
      "Iteration 50\n",
      "Last 50 iterations reward: -255.0204081632653\n",
      "Iteration 100\n",
      "Last 50 iterations reward: -140.04\n",
      "Iteration 150\n",
      "Last 50 iterations reward: -126.4\n",
      "Iteration 200\n",
      "Last 50 iterations reward: -132.86\n",
      "Total num of iterations: -32617.0\n"
     ]
    }
   ],
   "source": [
    "env = gym.make('MountainCar-v0')\n",
    "env._max_episode_steps = N\n",
    "ft = FeatureTransformer(env)\n",
    "rewards = np.empty(N_EPISODES)\n",
    "model = Model(env, LEARNING_RATE, ft)\n",
    "gamma = 0.99\n",
    "for n in range(N_EPISODES):\n",
    "    eps = 0.1 * (0.97 ** n)\n",
    "    reward = play_one_episode(model, env, eps, gamma)\n",
    "    rewards[n] = reward\n",
    "    if (n+1) % 50 == 0:\n",
    "        print(f\"Iteration {n+1}\")\n",
    "        print(f'Last 50 iterations reward: {rewards[max(0, n-50):n].mean()}')\n",
    "print(f\"Total num of iterations: {rewards.sum()}\")"
   ]
  },
  {
   "cell_type": "code",
   "execution_count": 9,
   "id": "b62ca04d-077a-4660-ab9c-42f67cdb4c7c",
   "metadata": {},
   "outputs": [
    {
     "data": {
      "image/png": "[encoded data removed]",
      "text/plain": [
       "<Figure size 1440x720 with 1 Axes>"
      ]
     },
     "metadata": {
      "needs_background": "light"
     },
     "output_type": "display_data"
    }
   ],
   "source": [
    "plot_running_avg(rewards)"
   ]
  },
  {
   "cell_type": "code",
   "execution_count": null,
   "id": "8ab53eb1-fce9-443f-b735-953d463de8af",
   "metadata": {},
   "outputs": [],
   "source": [
    "env = gym.wrappers.Monitor(env, './video', force=True)"
   ]
  },
  {
   "cell_type": "code",
   "execution_count": null,
   "id": "0f590d2f-bdca-45af-bfa1-ad7a8259409f",
   "metadata": {},
   "outputs": [],
   "source": [
    "play_one_episode(model, env, eps=0, gamma=0.99, mode='play')"
   ]
  }
 ],
 "metadata": {
  "kernelspec": {
   "display_name": "Python 3",
   "language": "python",
   "name": "python3"
  },
  "language_info": {
   "codemirror_mode": {
    "name": "ipython",
    "version": 3
   },
   "file_extension": ".py",
   "mimetype": "text/x-python",
   "name": "python",
   "nbconvert_exporter": "python",
   "pygments_lexer": "ipython3",
   "version": "3.8.8"
  }
 },
 "nbformat": 4,
 "nbformat_minor": 5
}
